{
 "cells": [
  {
   "cell_type": "code",
   "execution_count": 86,
   "metadata": {},
   "outputs": [
    {
     "data": {
      "text/plain": [
       "1"
      ]
     },
     "execution_count": 86,
     "metadata": {},
     "output_type": "execute_result"
    }
   ],
   "source": [
    "#Task 1:\n",
    "#1.1 Write a Python Program to implement your own myreduce() function which works exactly like Python's built-in function reduce()\n",
    "\n",
    "def myreduce(fun,seq):\n",
    "    x=seq[0]\n",
    "    for i in seq[1:]:\n",
    "        x=fun(x,i)\n",
    "    return x\n",
    "\n",
    "S=[2,4,5,1,8]\n",
    "my_reduce(lambda a,b: a if (a<b) else b,S)\n"
   ]
  },
  {
   "cell_type": "code",
   "execution_count": 2,
   "metadata": {},
   "outputs": [
    {
     "data": {
      "text/plain": [
       "[2, 4, 6, 8, 12, 278]"
      ]
     },
     "execution_count": 2,
     "metadata": {},
     "output_type": "execute_result"
    }
   ],
   "source": [
    "#1.2 Write a Python program to implement your own myfilter() function which works exactly like Python's built-in function filter()\n",
    "\n",
    "def myfilter(fun,lst):\n",
    "    x=[]\n",
    "    for i in lst:\n",
    "        if fun(i):\n",
    "            x.append(i)\n",
    "    return x\n",
    "\n",
    "lst=[1,2,3,4,5,6,7,8,9,12,278]\n",
    "myfilter(lambda a:a%2 ==0,lst)"
   ]
  },
  {
   "cell_type": "code",
   "execution_count": 3,
   "metadata": {},
   "outputs": [
    {
     "name": "stdout",
     "output_type": "stream",
     "text": [
      "['A', 'C', 'A', 'D', 'G', 'I', 'L', 'D']\n",
      "['x', 'xx', 'xxx', 'xxxx', 'y', 'yy', 'yyy', 'yyyy', 'z', 'zz', 'zzz', 'zzzz']\n",
      "['x', 'y', 'z', 'xx', 'yy', 'zz', 'xxx', 'yyy', 'zzz', 'xxxx', 'yyyy', 'zzzz']\n",
      "[[2], [3], [4], [3], [4], [5], [4], [5], [6]]\n",
      "[[2, 3, 4, 5], [3, 4, 5, 6], [4, 5, 6, 7], [5, 6, 7, 8]]\n",
      "[(1, 1), (1, 2), (1, 3), (2, 1), (2, 2), (2, 3), (3, 1), (3, 2), (3, 3)]\n"
     ]
    }
   ],
   "source": [
    "#2.Implement List comprehensions to produce the following lists.\n",
    "\n",
    "#Write List comprehensions to produce the following Lists\n",
    "#['A', 'C', 'A', 'D', 'G', 'I', ’L’, ‘ D’]\n",
    "val_1=[i for i in \"ACADGILD\"]\n",
    "print(val_1)\n",
    "#['x', 'xx', 'xxx', 'xxxx', 'y', 'yy', 'yyy', 'yyyy', 'z', 'zz', 'zzz', 'zzzz']\n",
    "val_2=[i*j for i in ['x','y','z'] for j in range(1,5)]\n",
    "print(val_2)\n",
    "#['x', 'y', 'z', 'xx', 'yy', 'zz', 'xx', 'yy', 'zz', 'xxxx', 'yyyy', 'zzzz']\n",
    "val_3=[i*j for i in range(1,5)  for j in ['x','y','z']]\n",
    "print(val_3)\n",
    "#[[2], [3], [4], [3], [4], [5], [4], [5], [6]]\n",
    "val_4=[[i+j] for i in [2,3,4] for j in range(0,3)]\n",
    "print(val_4)\n",
    "#[[2, 3, 4, 5], [3, 4, 5, 6], [4, 5, 6, 7], [5, 6, 7, 8]]\n",
    "val_5=[[i+j for i in [2,3,4,5]]  for j in range(0,4)]\n",
    "print(val_5)\n",
    "#[(1, 1), (2, 1), (3, 1), (1, 2), (2, 2), (3, 2), (1, 3), (2, 3), (3, 3)]\n",
    "val_6=[(i,j) for i in [1,2,3] for j in range (1,4)]\n",
    "print(val_6)\n"
   ]
  },
  {
   "cell_type": "code",
   "execution_count": 4,
   "metadata": {},
   "outputs": [
    {
     "data": {
      "text/plain": [
       "'asymbiosis123456789'"
      ]
     },
     "execution_count": 4,
     "metadata": {},
     "output_type": "execute_result"
    }
   ],
   "source": [
    "#3.Implement a function longestWord() that takes a list of words and returns the longest one.\n",
    "\n",
    "def longestWord(words):\n",
    "    x=[(len(i),i) for i in words]\n",
    "    x.sort(reverse=True)\n",
    "    return x[0][1]\n",
    "s=['amendment1234','eat','asymbiosis123456789','aero','hierarchy123','symbiosis12345678']\n",
    "longestWord(s)"
   ]
  },
  {
   "cell_type": "code",
   "execution_count": 85,
   "metadata": {},
   "outputs": [
    {
     "name": "stdout",
     "output_type": "stream",
     "text": [
      "provide length of first sides of a triangle 3\n",
      "provide length of second sides of a triangle 4\n",
      "provide length of third sides of a triangle 5\n",
      "6.0\n"
     ]
    }
   ],
   "source": [
    "#Task 2:\n",
    "#1.1 Write a Python Program(with class concepts) to find the area of the triangle using the below formula.\n",
    "#area = (s*(s-a)*(s-b)*(s-c)) ** 0.5\n",
    "#Function to take the length of the sides of triangle from user should be defined in the parent class and function to calculate the area should be defined in subclass.\n",
    "\n",
    "class Triangle:\n",
    "    def lengthofsides(self):\n",
    "        vl=['first','second','third']\n",
    "        sides=[]\n",
    "        for i in vl:\n",
    "            inputvl=input(\"provide length of {} sides of a triangle \".format(i))\n",
    "            sides.append(inputvl)\n",
    "        return sides\n",
    "            \n",
    "class Area(Triangle):\n",
    "    def areaoftriangle(self,lengthofsides):\n",
    "        a=int(lengthofsides[0])\n",
    "        b=int(lengthofsides[1])\n",
    "        c=int(lengthofsides[2])\n",
    "        s=(a+b+c)/2\n",
    "        area=(s*(s-a)*(s-b)*(s-c)) ** 0.5\n",
    "        print(area)\n",
    "        \n",
    "        \n",
    "ar=Area()\n",
    "lengthofsides=Area.lengthofsides(\"abc\")\n",
    "ar.areaoftriangle(lengthofsides)"
   ]
  },
  {
   "cell_type": "code",
   "execution_count": 22,
   "metadata": {},
   "outputs": [
    {
     "data": {
      "text/plain": [
       "['aerospace', 'cardio']"
      ]
     },
     "execution_count": 22,
     "metadata": {},
     "output_type": "execute_result"
    }
   ],
   "source": [
    "#1.2 Write a function filter_long_words() that takes a list of words and an integer n and returns the list of words that are longer than n.\n",
    "def filter_long_words(words):\n",
    "    x=[]\n",
    "    y=[]\n",
    "    z=[]\n",
    "    for i in words:\n",
    "        if type(i)==int:\n",
    "            y.append(i)\n",
    "        else:\n",
    "            z.append(i)\n",
    "    for j in z:\n",
    "        if len(j)>y[0]:\n",
    "            x.append(j)\n",
    "    return x\n",
    "\n",
    "        \n",
    "wrd=['word','aerospace',5,'cardio']\n",
    "filter_long_words(wrd)\n",
    " "
   ]
  },
  {
   "cell_type": "code",
   "execution_count": 7,
   "metadata": {},
   "outputs": [
    {
     "name": "stdout",
     "output_type": "stream",
     "text": [
      "[2, 3, 4]\n",
      "[7, 12, 8]\n"
     ]
    }
   ],
   "source": [
    "#2.1 Write a Python program using function concept that maps list of words into a list of integers representing the lengths of the corresponding words.\n",
    "#Hint: If a list [ ab,cde,erty] is passed on to the python function output should come as [2,3,4] Here 2,3 and 4 are the lengths of the words in the list.\n",
    "\n",
    "def  is_length(lst):\n",
    "    s=[len(i) for i in lst]\n",
    "    return s\n",
    "        \n",
    "\n",
    "print(is_length(['ab','cde','erty']))\n",
    "print(is_length(['abdhdhd','cdewdyugyude','erdjgdty']))\n"
   ]
  },
  {
   "cell_type": "code",
   "execution_count": 8,
   "metadata": {},
   "outputs": [
    {
     "name": "stdout",
     "output_type": "stream",
     "text": [
      "False\n",
      "True\n"
     ]
    }
   ],
   "source": [
    "#2.2 Write a Python function which takes a character (i.e. a string of length 1) and returns True if it is a vowel, False otherwise.\n",
    "\n",
    "def is_vowel(char):\n",
    "    vowel=('a','e','i','o','u')\n",
    "    if char in vowel:\n",
    "        return True\n",
    "    return False\n",
    "\n",
    "\n",
    "print(is_vowel('w'))\n",
    "print(is_vowel('e'))\n"
   ]
  }
 ],
 "metadata": {
  "kernelspec": {
   "display_name": "Python 3",
   "language": "python",
   "name": "python3"
  },
  "language_info": {
   "codemirror_mode": {
    "name": "ipython",
    "version": 3
   },
   "file_extension": ".py",
   "mimetype": "text/x-python",
   "name": "python",
   "nbconvert_exporter": "python",
   "pygments_lexer": "ipython3",
   "version": "3.7.4"
  }
 },
 "nbformat": 4,
 "nbformat_minor": 2
}
