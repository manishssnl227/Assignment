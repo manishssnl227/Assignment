{
 "cells": [
  {
   "cell_type": "code",
   "execution_count": 2,
   "metadata": {},
   "outputs": [
    {
     "name": "stdout",
     "output_type": "stream",
     "text": [
      "Error:division by zero\n",
      "Executed successfully\n"
     ]
    }
   ],
   "source": [
    "#Task 1:\n",
    "#1.Write a function to compute 5/0 and use try/except to catch the exceptions.\n",
    "try:\n",
    "    a=5/0\n",
    "except:\n",
    "    print(\"Error:division by zero\")\n",
    "finally:\n",
    "    print(\"Executed successfully\")\n",
    "              "
   ]
  },
  {
   "cell_type": "code",
   "execution_count": 5,
   "metadata": {},
   "outputs": [
    {
     "name": "stdout",
     "output_type": "stream",
     "text": [
      "Americans  play Baseball\n",
      "Americans  play Cricket\n",
      "Americans  watch Baseball\n",
      "Americans  watch Cricket\n",
      "Indians play Baseball\n",
      "Indians play Cricket\n",
      "Indians watch Baseball\n",
      "Indians watch Cricket\n"
     ]
    }
   ],
   "source": [
    "'''\n",
    "2.Implement a Python program to generate all sentences where \n",
    "subject is in [\"Americans\",\"Indians\"] and \n",
    "verb is in [\"Play\", \"watch\"] and \n",
    "the object is in [\"Baseball\",\"cricket\"].\n",
    "Hint: Subject,Verb and Object should be declared in the program as shown below.\n",
    "subjects=[\"Americans \",\"Indians\"]\n",
    "verbs=[\"play\",\"watch\"]\n",
    "objects=[\"Baseball\",\"Cricket\"]\n",
    "\n",
    "Output should come as below:\n",
    "Americans play Baseball.\n",
    "Americans play Cricket.\n",
    "Americans watch Baseball.\n",
    "Americans watch Cricket.\n",
    "Indians play Baseball.\n",
    "Indians play Cricket.\n",
    "Indians watch Baseball.\n",
    "Indians watch Cricket.\n",
    "'''\n",
    "subjects=[\"Americans \",\"Indians\"]\n",
    "verbs=[\"play\",\"watch\"]\n",
    "objects=[\"Baseball\",\"Cricket\"]\n",
    "\n",
    "for i in subjects:\n",
    "    for j in verbs:\n",
    "        for k in objects:\n",
    "            print(i+' '+j+' '+k)\n",
    "        \n",
    "\n",
    "\n"
   ]
  },
  {
   "cell_type": "code",
   "execution_count": 16,
   "metadata": {},
   "outputs": [
    {
     "name": "stdout",
     "output_type": "stream",
     "text": [
      "matrix in decreasing order of powers:\n",
      "\n",
      " [[1 1 1]\n",
      " [4 2 1]\n",
      " [9 3 1]] \n",
      "\n",
      "\n",
      "matrix in decreasing order of powers:\n",
      "\n",
      " [[1 1 1]\n",
      " [1 2 4]\n",
      " [1 3 9]] \n",
      "\n",
      "\n"
     ]
    }
   ],
   "source": [
    "'''\n",
    "Task 2:\n",
    "1.Write a function so that the columns of the output matrix are powers of the input vector.\n",
    "The order of the powers is determined by the increasing boolean argument. Specifically, when\n",
    "increasing is False, the i-th output column is the input vector raised element-wise to the power\n",
    "of N - i - 1.\n",
    "HINT: Such a matrix with a geometric progression in each row is named for Alexandre-\n",
    "Theophile Vandermonde.\n",
    "\n",
    "'''\n",
    "import numpy as np\n",
    "def gen_matrix(ip_vector,N,increasing=False):\n",
    "    if not increasing:\n",
    "        mat=np.array([x**(N-i-1) for x in ip_vector for i in range(N)])\n",
    "        op_mat=mat.reshape(ip_vector.size,N)\n",
    "    elif increasing:\n",
    "        mat=np.array([x**i for x in ip_vector for i in range(N)])\n",
    "        op_mat=mat.reshape(ip_vector.size,N)\n",
    "    return op_mat\n",
    "\n",
    "ip_vector=np.array([1,2,3])\n",
    "N=3\n",
    "\n",
    "print(\"matrix in decreasing order of powers:\\n\\n\",gen_matrix(ip_vector,N,False),\"\\n\\n\")\n",
    "print(\"matrix in decreasing order of powers:\\n\\n\",gen_matrix(ip_vector,N,True),\"\\n\\n\")        \n",
    "    "
   ]
  }
 ],
 "metadata": {
  "kernelspec": {
   "display_name": "Python 3",
   "language": "python",
   "name": "python3"
  },
  "language_info": {
   "codemirror_mode": {
    "name": "ipython",
    "version": 3
   },
   "file_extension": ".py",
   "mimetype": "text/x-python",
   "name": "python",
   "nbconvert_exporter": "python",
   "pygments_lexer": "ipython3",
   "version": "3.7.4"
  }
 },
 "nbformat": 4,
 "nbformat_minor": 2
}
